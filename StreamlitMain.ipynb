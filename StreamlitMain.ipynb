{
 "cells": [
  {
   "cell_type": "code",
   "execution_count": null,
   "id": "responsible-there",
   "metadata": {},
   "outputs": [],
   "source": [
    "import streamlit as st\n",
    "import numpy as np\n",
    "import pandas as dp\n",
    "from PIL import Image\n",
    "import time"
   ]
  },
  {
   "cell_type": "code",
   "execution_count": null,
   "id": "stable-saver",
   "metadata": {},
   "outputs": [],
   "source": [
    "# タイトル表示\n",
    "st.title('Streamlit 超入門')"
   ]
  },
  {
   "cell_type": "code",
   "execution_count": null,
   "id": "radical-pierce",
   "metadata": {},
   "outputs": [],
   "source": [
    "st.write('DataFrame')\n",
    "df1 = dp.DataFrame({\n",
    "    \"1行目\":[1, 2, 3, 4],\n",
    "    \"2行目\":[10, 200, 30, 40]\n",
    "})\n",
    "# 動的なテーブル\n",
    "st.dataframe(df1.style.highlight_max(axis=0), width=300, height=500)\n",
    "# 性的なテーブル\n",
    "st.table(df1.style.highlight_max(axis=0))\n"
   ]
  },
  {
   "cell_type": "code",
   "execution_count": null,
   "id": "consecutive-poverty",
   "metadata": {},
   "outputs": [],
   "source": [
    "# マジックコマンド マークダウン記述\n",
    "'''\n",
    "# 章\n",
    "## 節\n",
    "### 項\n",
    "```\n",
    "import streamlit as st\n",
    "import numpy as np\n",
    "import pandas as dp\n",
    "```\n",
    "\n",
    "'''"
   ]
  },
  {
   "cell_type": "code",
   "execution_count": null,
   "id": "veterinary-private",
   "metadata": {},
   "outputs": [],
   "source": [
    "# チャート表示\n",
    "# ランダムなデータを作成する\n",
    "df2 = dp.DataFrame(\n",
    "    np.random.rand(20, 3),\n",
    "    columns=['a','b','c']\n",
    ")\n",
    "\n",
    "if st.checkbox(\"チャートを表示：\"):\n",
    "    # ラインチャートを作成\n",
    "    st.line_chart(df2)\n",
    "    # エリアチャートを作成\n",
    "    st.area_chart(df2)\n",
    "    # 棒チャートを作成\n",
    "    st.bar_chart(df2)"
   ]
  },
  {
   "cell_type": "code",
   "execution_count": null,
   "id": "identical-delicious",
   "metadata": {},
   "outputs": [],
   "source": [
    "#マッププロット\n",
    "df3 = dp.DataFrame(\n",
    "    np.random.rand(100, 2)/[50,50] + (35.69, 139.70),\n",
    "    columns=['lat','lon']\n",
    ")\n",
    "if st.checkbox(\"マップを表示：\"):\n",
    "    st.map(df3)"
   ]
  },
  {
   "cell_type": "code",
   "execution_count": null,
   "id": "dated-disposition",
   "metadata": {},
   "outputs": [],
   "source": [
    "# 画像を表示\n",
    "st.write('Display Image')\n",
    "img = Image.open('sample_01.jpg')\n",
    "#st.image(img, caption='サンプル０１画像', use_column_width=True)"
   ]
  },
  {
   "cell_type": "code",
   "execution_count": null,
   "id": "searching-sustainability",
   "metadata": {},
   "outputs": [],
   "source": [
    "# インターラクティブなウィジェット\n",
    "# ラジオボタン\n",
    "# スライダー\n",
    "# チェックボックス\n",
    "\n",
    "# 画像表示をチェックボックスで指定する\n",
    "if st.checkbox(\"画像を表示：\"):\n",
    "    st.image(img, caption='サンプル０１画像', use_column_width=True)"
   ]
  },
  {
   "cell_type": "code",
   "execution_count": null,
   "id": "front-engineer",
   "metadata": {},
   "outputs": [],
   "source": [
    "# セレクトボックス\n",
    "option = st.selectbox(\n",
    "    \"あなたの好きな数字を教えてください。\",\n",
    "    list(range(1,100))\n",
    ")    "
   ]
  },
  {
   "cell_type": "code",
   "execution_count": null,
   "id": "incoming-implement",
   "metadata": {},
   "outputs": [],
   "source": [
    "'あなたの好きな数字は', option, 'です。'"
   ]
  },
  {
   "cell_type": "code",
   "execution_count": null,
   "id": "unsigned-incentive",
   "metadata": {},
   "outputs": [],
   "source": [
    "# テキスト入力\n",
    "# スライダー指定\n",
    "# レイアウトを整える\n",
    "# サイドバーを追加する\n",
    "st.sidebar.write('質問です')\n",
    "text = st.sidebar.text_input('あなたの趣味は')\n",
    "condition = st.sidebar.slider('あなたの体調は', 1, 100, 50)"
   ]
  },
  {
   "cell_type": "code",
   "execution_count": null,
   "id": "healthy-scanning",
   "metadata": {},
   "outputs": [],
   "source": [
    "'あなたの趣味は', text, 'です。'\n",
    "'あなたの体調', condition"
   ]
  },
  {
   "cell_type": "code",
   "execution_count": null,
   "id": "delayed-prime",
   "metadata": {},
   "outputs": [],
   "source": [
    "# ２カラムレイアウト\n",
    "left_column, right_column = st.beta_columns(2)\n",
    "button = left_column.button(\"ボタンを押すとテキストが表示\")\n",
    "if button:\n",
    "    right_column.write(\"右カラム表示されました\")"
   ]
  },
  {
   "cell_type": "code",
   "execution_count": null,
   "id": "senior-taste",
   "metadata": {},
   "outputs": [],
   "source": [
    "# エキスパンダー\n",
    "expander = st.beta_expander(\"問い合わせ\")\n",
    "expander.write(\"問い合わせ内容１\")\n",
    "expander.write(\"問い合わせ内容２\")\n",
    "expander.write(\"問い合わせ内容３\")\n",
    "# カラーピッカー\n",
    "color_packer = st.color_picker('Pick A Color', '#00f900') # "
   ]
  },
  {
   "cell_type": "code",
   "execution_count": null,
   "id": "tender-concrete",
   "metadata": {},
   "outputs": [],
   "source": [
    "# プログレスバー\n",
    "'スタート'\n",
    "latest_iteration = st.empty()\n",
    "bar = st.progress(0)\n",
    "for i in range(100):\n",
    "    latest_iteration.text(f'Iteration {i+1}')\n",
    "    bar.progress(i+1)\n",
    "    time.sleep(0.1)\n",
    "'エンド'"
   ]
  },
  {
   "cell_type": "code",
   "execution_count": null,
   "id": "olympic-reunion",
   "metadata": {},
   "outputs": [],
   "source": []
  }
 ],
 "metadata": {
  "kernelspec": {
   "display_name": "Python 3",
   "language": "python",
   "name": "python3"
  },
  "language_info": {
   "codemirror_mode": {
    "name": "ipython",
    "version": 3
   },
   "file_extension": ".py",
   "mimetype": "text/x-python",
   "name": "python",
   "nbconvert_exporter": "python",
   "pygments_lexer": "ipython3",
   "version": "3.8.5"
  }
 },
 "nbformat": 4,
 "nbformat_minor": 5
}
