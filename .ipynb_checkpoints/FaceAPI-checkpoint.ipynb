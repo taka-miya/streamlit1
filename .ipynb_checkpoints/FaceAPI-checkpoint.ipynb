{
 "cells": [
  {
   "cell_type": "code",
   "execution_count": null,
   "id": "above-identity",
   "metadata": {},
   "outputs": [],
   "source": [
    "import requests\n",
    "from PIL import Image,ImageDraw,ImageFont\n",
    "import json"
   ]
  },
  {
   "cell_type": "code",
   "execution_count": null,
   "id": "sharing-carol",
   "metadata": {},
   "outputs": [],
   "source": [
    "with open('secret.json') as f:\n",
    "    secret_json = json.load(f)\n",
    "subscription_key = secret_json['key1']"
   ]
  },
  {
   "cell_type": "code",
   "execution_count": null,
   "id": "welsh-explanation",
   "metadata": {},
   "outputs": [],
   "source": [
    "assert subscription_key"
   ]
  },
  {
   "cell_type": "code",
   "execution_count": null,
   "id": "unavailable-screen",
   "metadata": {},
   "outputs": [],
   "source": [
    "face_api_url = 'https://20210619miyazuka.cognitiveservices.azure.com/face/v1.0/detect'"
   ]
  },
  {
   "cell_type": "code",
   "execution_count": null,
   "id": "binding-truck",
   "metadata": {},
   "outputs": [],
   "source": [
    "image_file = r'031.png'\n",
    "with open(image_file, 'rb') as f:\n",
    "    binary_img = f.read()"
   ]
  },
  {
   "cell_type": "code",
   "execution_count": null,
   "id": "vanilla-castle",
   "metadata": {},
   "outputs": [],
   "source": [
    "# ヘッダ設定\n",
    "headers = {\n",
    "    'Content-Type': 'application/octet-stream',\n",
    "    'Ocp-Apim-Subscription-Key': subscription_key\n",
    "}\n",
    " \n",
    "# パラメーターの設定\n",
    "params = {\n",
    "    'returnFaceId': 'true',\n",
    "    'returnFaceLandmarks': 'false',\n",
    "    'returnFaceAttributes': 'age,gender,headPose,smile,facialHair,glasses,emotion,hair,makeup,occlusion,accessories,blur,exposure,noise',\n",
    "}\n",
    " \n",
    "# POSTリクエスト\n",
    "res = requests.post(face_api_url, \n",
    "                    params=params, \n",
    "                    headers=headers, \n",
    "                    #json={\"url\": image_url}\n",
    "                    data=binary_img\n",
    "                   )\n",
    " \n",
    "# JSONデコード\n",
    "result = res.json()"
   ]
  },
  {
   "cell_type": "code",
   "execution_count": null,
   "id": "assured-harris",
   "metadata": {},
   "outputs": [],
   "source": [
    "res"
   ]
  },
  {
   "cell_type": "code",
   "execution_count": null,
   "id": "hundred-argentina",
   "metadata": {},
   "outputs": [],
   "source": [
    "# 顔と認識された箇所に四角を描く関数\n",
    "def draw_rectangle(draw, coordinates, color, width = 1):\n",
    "    for i in range(width):\n",
    "        rect_start = (coordinates[0][0] - i, coordinates[0][1] - i)\n",
    "        rect_end = (coordinates[1][0] + i, coordinates[1][1] + i)\n",
    "        draw.rectangle((rect_start, rect_end), outline = color)\n",
    " "
   ]
  },
  {
   "cell_type": "code",
   "execution_count": null,
   "id": "extended-mechanism",
   "metadata": {},
   "outputs": [],
   "source": [
    "# 顔と認識された箇所に性別を描く関数\n",
    "def draw_gender(draw, coordinates, text, align, font, fill):\n",
    "    draw.text(coordinates, text, align = align, font = font, fill = fill)\n",
    " "
   ]
  },
  {
   "cell_type": "code",
   "execution_count": null,
   "id": "fitted-prison",
   "metadata": {},
   "outputs": [],
   "source": [
    "# イメージオブジェクト生成\n",
    "im = Image.open(image_file)\n",
    "drawing = ImageDraw.Draw(im)\n",
    " \n",
    "for index in range(len(result)):\n",
    "    # 取得した顔情報\n",
    "    image_top    = result[index]['faceRectangle']['top']\n",
    "    image_left   = result[index]['faceRectangle']['left']\n",
    "    image_height = result[index]['faceRectangle']['height']\n",
    "    image_width  = result[index]['faceRectangle']['width']\n",
    "    image_gender = result[index]['faceAttributes']['gender']\n",
    "    image_age    = result[index]['faceAttributes']['age']\n",
    " \n",
    "    # 関数呼び出し(四角)\n",
    "    face_top_left = (image_left, image_top)\n",
    "    face_bottom_right = (image_left + image_width, image_top + image_height)\n",
    "    outline_width = 3\n",
    "    outline_color = \"Blue\"\n",
    "    draw_rectangle(drawing, (face_top_left, face_bottom_right), color = outline_color, width = outline_width)\n",
    " \n",
    "    # 関数呼び出し(性別)\n",
    "    gender_top_left = (image_left, image_top - 30)\n",
    "    font = ImageFont.truetype(\n",
    "        r'/System/Library/Fonts/Hiragino Sans GB.ttc',   # Mac\n",
    "        #r'C:\\Windows\\Fonts\\HGRSGU.TTC',  # Windows\n",
    "        18) \n",
    "    align = 'Left'\n",
    "    fill  = 'Red'\n",
    "    draw_gender(drawing, gender_top_left, (\"男性\" if image_gender == 'male' else '女性')+\":\"+str(int(image_age)), align, font, fill)\n",
    " \n",
    "# イメージを表示\n",
    "im.show()"
   ]
  },
  {
   "cell_type": "code",
   "execution_count": null,
   "id": "applied-warrior",
   "metadata": {},
   "outputs": [],
   "source": [
    "result"
   ]
  },
  {
   "cell_type": "code",
   "execution_count": null,
   "id": "preceding-branch",
   "metadata": {},
   "outputs": [],
   "source": []
  }
 ],
 "metadata": {
  "kernelspec": {
   "display_name": "Python 3",
   "language": "python",
   "name": "python3"
  },
  "language_info": {
   "codemirror_mode": {
    "name": "ipython",
    "version": 3
   },
   "file_extension": ".py",
   "mimetype": "text/x-python",
   "name": "python",
   "nbconvert_exporter": "python",
   "pygments_lexer": "ipython3",
   "version": "3.8.5"
  }
 },
 "nbformat": 4,
 "nbformat_minor": 5
}
